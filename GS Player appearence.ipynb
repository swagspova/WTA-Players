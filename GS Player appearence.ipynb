{
 "cells": [
  {
   "cell_type": "code",
   "execution_count": 26,
   "id": "aafd7caf-d89e-4fd4-8960-21862f1b4b7f",
   "metadata": {},
   "outputs": [],
   "source": [
    "import pandas as pd"
   ]
  },
  {
   "cell_type": "code",
   "execution_count": 27,
   "id": "f8a92b4f-ab71-4c6b-8561-d8d84307a16f",
   "metadata": {},
   "outputs": [],
   "source": [
    "AO = pd.read_csv('AO23.csv')\n",
    "RG = pd.read_csv('RG23.csv')\n",
    "W = pd.read_csv('W23.csv')\n",
    "USO = pd.read_csv('USO23.csv')"
   ]
  },
  {
   "cell_type": "code",
   "execution_count": 28,
   "id": "c91e311a-ca2a-4b44-8135-c270030c2a3b",
   "metadata": {},
   "outputs": [],
   "source": [
    "frames = [AO,RG,W,USO]\n",
    "GS23 = pd.concat(frames,ignore_index=True)"
   ]
  },
  {
   "cell_type": "code",
   "execution_count": 29,
   "id": "7e5a5130-9e63-47eb-8ecc-d4f6d4c8668a",
   "metadata": {},
   "outputs": [
    {
     "name": "stdout",
     "output_type": "stream",
     "text": [
      "       Section Misc        Player\n",
      "0    Section 1    1     I Świątek\n",
      "1    Section 1  NaN    J Niemeier\n",
      "2    Section 1  NaN     P Udvardy\n",
      "3    Section 1  NaN      C Osorio\n",
      "4    Section 1    Q       C Bucșa\n",
      "..         ...  ...           ...\n",
      "185  Section 6    Q     F Crawley\n",
      "186  Section 7   WC     A Krueger\n",
      "187  Section 7   WC  R Montgomery\n",
      "188  Section 8    Q     S Vickery\n",
      "189  Section 8    Q      E-G Ruse\n",
      "\n",
      "[190 rows x 3 columns]\n"
     ]
    }
   ],
   "source": [
    "GS23_players = GS23.drop_duplicates(subset=['Player']).reset_index(drop=True)\n",
    "print(GS23_players)"
   ]
  },
  {
   "cell_type": "code",
   "execution_count": 30,
   "id": "913a3fd2-ea70-4469-8eec-b9d7a47acfd9",
   "metadata": {},
   "outputs": [],
   "source": [
    "GS23_appearence = GS23['Player'].value_counts().reset_index()\n",
    "GS23_appearence.columns = ['Player', 'Frequency']"
   ]
  },
  {
   "cell_type": "code",
   "execution_count": 33,
   "id": "14563ccf-c9c5-4141-ad35-cf38707e1e9c",
   "metadata": {},
   "outputs": [
    {
     "name": "stdout",
     "output_type": "stream",
     "text": [
      "           Player  Frequency\n",
      "0       I Świątek          4\n",
      "1      A Blinkova          4\n",
      "2   E Alexandrova          4\n",
      "3         D Parry          4\n",
      "4       M Linette          4\n",
      "..            ...        ...\n",
      "68       A Bogdan          4\n",
      "69      P Udvardy          4\n",
      "70   B Krejčíková          4\n",
      "71     A Kalinina          4\n",
      "72       C Osorio          4\n",
      "\n",
      "[73 rows x 2 columns]\n"
     ]
    }
   ],
   "source": [
    "filtered_players = GS23_appearence[GS23_appearence['Frequency'] == 4]\n",
    "\n",
    "print(filtered_players)"
   ]
  },
  {
   "cell_type": "code",
   "execution_count": 31,
   "id": "df9b6ab4-fe5b-4fdf-a923-96b2e83c2450",
   "metadata": {},
   "outputs": [],
   "source": [
    "GS23.to_csv(r'C:\\Users\\ghosh\\OneDrive\\ドキュメント\\Stats for twitter\\GS23.csv', index=False)\n",
    "GS23_appearence.to_csv(r'C:\\Users\\ghosh\\OneDrive\\ドキュメント\\Stats for twitter\\GS23_appearence.csv', index=False)"
   ]
  },
  {
   "cell_type": "code",
   "execution_count": null,
   "id": "a2538133-2e24-4333-b652-54ea6becc50c",
   "metadata": {},
   "outputs": [],
   "source": []
  }
 ],
 "metadata": {
  "kernelspec": {
   "display_name": "Python 3 (ipykernel)",
   "language": "python",
   "name": "python3"
  },
  "language_info": {
   "codemirror_mode": {
    "name": "ipython",
    "version": 3
   },
   "file_extension": ".py",
   "mimetype": "text/x-python",
   "name": "python",
   "nbconvert_exporter": "python",
   "pygments_lexer": "ipython3",
   "version": "3.11.5"
  }
 },
 "nbformat": 4,
 "nbformat_minor": 5
}
